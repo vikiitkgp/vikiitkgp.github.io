{
 "cells": [
  {
   "cell_type": "markdown",
   "metadata": {},
   "source": [
    "# Creating a Two Step Model\n",
    "\n",
    "- The first model will help decide whether the driver will be active/ online on a particular day or not\n",
    "- The second model will further score the number of hours the driver will be online in case the first model says that the driver will be active"
   ]
  },
  {
   "cell_type": "markdown",
   "metadata": {},
   "source": [
    "# 1. Classification Model"
   ]
  },
  {
   "cell_type": "markdown",
   "metadata": {},
   "source": [
    "***\n",
    "-Binary Classification Model for deciding whether the driver will be active on a particular day or not\n",
    "***"
   ]
  },
  {
   "cell_type": "code",
   "execution_count": 5,
   "metadata": {},
   "outputs": [],
   "source": [
    "import numpy as np\n",
    "import pandas as pd\n",
    "import matplotlib.pyplot as plt\n",
    "import seaborn as sns\n",
    "import itertools\n",
    "from sklearn import preprocessing\n",
    "from sklearn import model_selection\n",
    "from sklearn.metrics import confusion_matrix, make_scorer, accuracy_score \n",
    "from sklearn.model_selection import learning_curve, StratifiedKFold, train_test_split\n",
    "from sklearn.ensemble import RandomForestClassifier\n",
    "import graphviz \n",
    "%matplotlib inline\n",
    "from IPython.core.interactiveshell import InteractiveShell\n",
    "InteractiveShell.ast_node_interactivity = \"all\""
   ]
  },
  {
   "cell_type": "code",
   "execution_count": 173,
   "metadata": {},
   "outputs": [],
   "source": [
    "train = pd.read_parquet('train_data.parquet', engine='fastparquet')\n",
    "test = pd.read_parquet('test_data.parquet', engine='fastparquet')\n",
    "\n",
    "train['Ind'] = 'Train'\n",
    "test['Ind'] = 'Test'\n",
    "train[\"online_hours\"] = train[\"online_hours\"].astype(int)"
   ]
  },
  {
   "cell_type": "code",
   "execution_count": 177,
   "metadata": {},
   "outputs": [],
   "source": [
    "kid_weekday = (train.groupby(['number_of_kids', 'weekday'])[['online_hours']].apply(lambda x: x.mean())).reset_index()\n",
    "kid_weekday.columns = ['number_of_kids', 'weekday', 'Avg_kid_weekday_online_hours']\n",
    "kid_age = (train.groupby(['number_of_kids', 'age_bucket'])[['online_hours']].apply(lambda x: x.mean())).reset_index()\n",
    "kid_age.columns = ['number_of_kids', 'age_bucket', 'Avg_kid_age_online_hours']\n",
    "age_weekday = (train.groupby(['weekday', 'age_bucket'])[['online_hours']].apply(lambda x: x.mean())).reset_index()\n",
    "age_weekday.columns = ['weekday', 'age_bucket', 'Avg_weekday_age_online_hours']"
   ]
  },
  {
   "cell_type": "code",
   "execution_count": 178,
   "metadata": {},
   "outputs": [
    {
     "data": {
      "text/html": [
       "<div>\n",
       "<style scoped>\n",
       "    .dataframe tbody tr th:only-of-type {\n",
       "        vertical-align: middle;\n",
       "    }\n",
       "\n",
       "    .dataframe tbody tr th {\n",
       "        vertical-align: top;\n",
       "    }\n",
       "\n",
       "    .dataframe thead th {\n",
       "        text-align: right;\n",
       "    }\n",
       "</style>\n",
       "<table border=\"1\" class=\"dataframe\">\n",
       "  <thead>\n",
       "    <tr style=\"text-align: right;\">\n",
       "      <th></th>\n",
       "      <th>number_of_kids</th>\n",
       "      <th>weekday</th>\n",
       "      <th>Avg_kid_weekday_online_hours</th>\n",
       "    </tr>\n",
       "  </thead>\n",
       "  <tbody>\n",
       "    <tr>\n",
       "      <th>0</th>\n",
       "      <td>0</td>\n",
       "      <td>0</td>\n",
       "      <td>5.789362</td>\n",
       "    </tr>\n",
       "    <tr>\n",
       "      <th>1</th>\n",
       "      <td>0</td>\n",
       "      <td>1</td>\n",
       "      <td>6.131762</td>\n",
       "    </tr>\n",
       "    <tr>\n",
       "      <th>2</th>\n",
       "      <td>0</td>\n",
       "      <td>2</td>\n",
       "      <td>6.136597</td>\n",
       "    </tr>\n",
       "    <tr>\n",
       "      <th>3</th>\n",
       "      <td>0</td>\n",
       "      <td>3</td>\n",
       "      <td>5.656089</td>\n",
       "    </tr>\n",
       "    <tr>\n",
       "      <th>4</th>\n",
       "      <td>0</td>\n",
       "      <td>4</td>\n",
       "      <td>6.258688</td>\n",
       "    </tr>\n",
       "  </tbody>\n",
       "</table>\n",
       "</div>"
      ],
      "text/plain": [
       "   number_of_kids  weekday  Avg_kid_weekday_online_hours\n",
       "0               0        0                      5.789362\n",
       "1               0        1                      6.131762\n",
       "2               0        2                      6.136597\n",
       "3               0        3                      5.656089\n",
       "4               0        4                      6.258688"
      ]
     },
     "execution_count": 178,
     "metadata": {},
     "output_type": "execute_result"
    }
   ],
   "source": [
    "kid_weekday.head()"
   ]
  },
  {
   "cell_type": "code",
   "execution_count": 180,
   "metadata": {},
   "outputs": [],
   "source": [
    "train = pd.merge(train, kid_weekday, on = ['number_of_kids', 'weekday'], how = 'left')\n",
    "train = pd.merge(train, kid_age, on = ['number_of_kids', 'age_bucket'], how = 'left')\n",
    "train = pd.merge(train, age_weekday, on = ['weekday', 'age_bucket'], how = 'left')\n",
    "\n",
    "test = pd.merge(test, kid_weekday, on = ['number_of_kids', 'weekday'], how = 'left')\n",
    "test = pd.merge(test, kid_age, on = ['number_of_kids', 'age_bucket'], how = 'left')\n",
    "test = pd.merge(test, age_weekday, on = ['weekday', 'age_bucket'], how = 'left')"
   ]
  },
  {
   "cell_type": "code",
   "execution_count": 182,
   "metadata": {},
   "outputs": [
    {
     "data": {
      "text/html": [
       "<div>\n",
       "<style scoped>\n",
       "    .dataframe tbody tr th:only-of-type {\n",
       "        vertical-align: middle;\n",
       "    }\n",
       "\n",
       "    .dataframe tbody tr th {\n",
       "        vertical-align: top;\n",
       "    }\n",
       "\n",
       "    .dataframe thead th {\n",
       "        text-align: right;\n",
       "    }\n",
       "</style>\n",
       "<table border=\"1\" class=\"dataframe\">\n",
       "  <thead>\n",
       "    <tr style=\"text-align: right;\">\n",
       "      <th></th>\n",
       "      <th>Avg_kid_age_online_hours</th>\n",
       "      <th>Avg_kid_weekday_online_hours</th>\n",
       "      <th>Avg_weekday_age_online_hours</th>\n",
       "      <th>Ind</th>\n",
       "      <th>age</th>\n",
       "      <th>age_bucket</th>\n",
       "      <th>date</th>\n",
       "      <th>driver_id</th>\n",
       "      <th>gender</th>\n",
       "      <th>number_of_kids</th>\n",
       "      <th>online_hours</th>\n",
       "      <th>weekday</th>\n",
       "      <th>weekend_flag</th>\n",
       "    </tr>\n",
       "  </thead>\n",
       "  <tbody>\n",
       "    <tr>\n",
       "      <th>0</th>\n",
       "      <td>6.155402</td>\n",
       "      <td>6.342803</td>\n",
       "      <td>5.651890</td>\n",
       "      <td>Train</td>\n",
       "      <td>49</td>\n",
       "      <td>2</td>\n",
       "      <td>2017-06-01</td>\n",
       "      <td>111556</td>\n",
       "      <td>FEMALE</td>\n",
       "      <td>4</td>\n",
       "      <td>2</td>\n",
       "      <td>3</td>\n",
       "      <td>0</td>\n",
       "    </tr>\n",
       "    <tr>\n",
       "      <th>1</th>\n",
       "      <td>6.155402</td>\n",
       "      <td>7.010417</td>\n",
       "      <td>6.301718</td>\n",
       "      <td>Train</td>\n",
       "      <td>49</td>\n",
       "      <td>2</td>\n",
       "      <td>2017-06-02</td>\n",
       "      <td>111556</td>\n",
       "      <td>FEMALE</td>\n",
       "      <td>4</td>\n",
       "      <td>2</td>\n",
       "      <td>4</td>\n",
       "      <td>0</td>\n",
       "    </tr>\n",
       "    <tr>\n",
       "      <th>2</th>\n",
       "      <td>6.155402</td>\n",
       "      <td>4.850379</td>\n",
       "      <td>4.350859</td>\n",
       "      <td>Train</td>\n",
       "      <td>49</td>\n",
       "      <td>2</td>\n",
       "      <td>2017-06-03</td>\n",
       "      <td>111556</td>\n",
       "      <td>FEMALE</td>\n",
       "      <td>4</td>\n",
       "      <td>0</td>\n",
       "      <td>5</td>\n",
       "      <td>1</td>\n",
       "    </tr>\n",
       "    <tr>\n",
       "      <th>3</th>\n",
       "      <td>6.155402</td>\n",
       "      <td>5.326705</td>\n",
       "      <td>4.501031</td>\n",
       "      <td>Train</td>\n",
       "      <td>49</td>\n",
       "      <td>2</td>\n",
       "      <td>2017-06-04</td>\n",
       "      <td>111556</td>\n",
       "      <td>FEMALE</td>\n",
       "      <td>4</td>\n",
       "      <td>0</td>\n",
       "      <td>6</td>\n",
       "      <td>1</td>\n",
       "    </tr>\n",
       "    <tr>\n",
       "      <th>4</th>\n",
       "      <td>6.155402</td>\n",
       "      <td>6.623106</td>\n",
       "      <td>5.990378</td>\n",
       "      <td>Train</td>\n",
       "      <td>49</td>\n",
       "      <td>2</td>\n",
       "      <td>2017-06-05</td>\n",
       "      <td>111556</td>\n",
       "      <td>FEMALE</td>\n",
       "      <td>4</td>\n",
       "      <td>5</td>\n",
       "      <td>0</td>\n",
       "      <td>0</td>\n",
       "    </tr>\n",
       "  </tbody>\n",
       "</table>\n",
       "</div>"
      ],
      "text/plain": [
       "   Avg_kid_age_online_hours  Avg_kid_weekday_online_hours  \\\n",
       "0                  6.155402                      6.342803   \n",
       "1                  6.155402                      7.010417   \n",
       "2                  6.155402                      4.850379   \n",
       "3                  6.155402                      5.326705   \n",
       "4                  6.155402                      6.623106   \n",
       "\n",
       "   Avg_weekday_age_online_hours    Ind  age  age_bucket       date  driver_id  \\\n",
       "0                      5.651890  Train   49           2 2017-06-01     111556   \n",
       "1                      6.301718  Train   49           2 2017-06-02     111556   \n",
       "2                      4.350859  Train   49           2 2017-06-03     111556   \n",
       "3                      4.501031  Train   49           2 2017-06-04     111556   \n",
       "4                      5.990378  Train   49           2 2017-06-05     111556   \n",
       "\n",
       "   gender  number_of_kids  online_hours  weekday  weekend_flag  \n",
       "0  FEMALE               4             2        3             0  \n",
       "1  FEMALE               4             2        4             0  \n",
       "2  FEMALE               4             0        5             1  \n",
       "3  FEMALE               4             0        6             1  \n",
       "4  FEMALE               4             5        0             0  "
      ]
     },
     "execution_count": 182,
     "metadata": {},
     "output_type": "execute_result"
    },
    {
     "data": {
      "text/html": [
       "<div>\n",
       "<style scoped>\n",
       "    .dataframe tbody tr th:only-of-type {\n",
       "        vertical-align: middle;\n",
       "    }\n",
       "\n",
       "    .dataframe tbody tr th {\n",
       "        vertical-align: top;\n",
       "    }\n",
       "\n",
       "    .dataframe thead th {\n",
       "        text-align: right;\n",
       "    }\n",
       "</style>\n",
       "<table border=\"1\" class=\"dataframe\">\n",
       "  <thead>\n",
       "    <tr style=\"text-align: right;\">\n",
       "      <th></th>\n",
       "      <th>Avg_kid_age_online_hours</th>\n",
       "      <th>Avg_kid_weekday_online_hours</th>\n",
       "      <th>Avg_weekday_age_online_hours</th>\n",
       "      <th>Ind</th>\n",
       "      <th>age</th>\n",
       "      <th>age_bucket</th>\n",
       "      <th>date</th>\n",
       "      <th>driver_id</th>\n",
       "      <th>gender</th>\n",
       "      <th>number_of_kids</th>\n",
       "      <th>online_hours</th>\n",
       "      <th>weekday</th>\n",
       "      <th>weekend_flag</th>\n",
       "    </tr>\n",
       "  </thead>\n",
       "  <tbody>\n",
       "    <tr>\n",
       "      <th>69575</th>\n",
       "      <td>5.630855</td>\n",
       "      <td>4.485947</td>\n",
       "      <td>4.810579</td>\n",
       "      <td>Test</td>\n",
       "      <td>27</td>\n",
       "      <td>1</td>\n",
       "      <td>2017-06-24</td>\n",
       "      <td>998740</td>\n",
       "      <td>MALE</td>\n",
       "      <td>0</td>\n",
       "      <td>0</td>\n",
       "      <td>5</td>\n",
       "      <td>1</td>\n",
       "    </tr>\n",
       "    <tr>\n",
       "      <th>69576</th>\n",
       "      <td>5.630855</td>\n",
       "      <td>4.500151</td>\n",
       "      <td>4.922872</td>\n",
       "      <td>Test</td>\n",
       "      <td>27</td>\n",
       "      <td>1</td>\n",
       "      <td>2017-06-25</td>\n",
       "      <td>998740</td>\n",
       "      <td>MALE</td>\n",
       "      <td>0</td>\n",
       "      <td>0</td>\n",
       "      <td>6</td>\n",
       "      <td>1</td>\n",
       "    </tr>\n",
       "    <tr>\n",
       "      <th>69577</th>\n",
       "      <td>5.630855</td>\n",
       "      <td>5.789362</td>\n",
       "      <td>6.129433</td>\n",
       "      <td>Test</td>\n",
       "      <td>27</td>\n",
       "      <td>1</td>\n",
       "      <td>2017-06-26</td>\n",
       "      <td>998740</td>\n",
       "      <td>MALE</td>\n",
       "      <td>0</td>\n",
       "      <td>0</td>\n",
       "      <td>0</td>\n",
       "      <td>0</td>\n",
       "    </tr>\n",
       "    <tr>\n",
       "      <th>69578</th>\n",
       "      <td>5.630855</td>\n",
       "      <td>6.131762</td>\n",
       "      <td>6.471631</td>\n",
       "      <td>Test</td>\n",
       "      <td>27</td>\n",
       "      <td>1</td>\n",
       "      <td>2017-06-27</td>\n",
       "      <td>998740</td>\n",
       "      <td>MALE</td>\n",
       "      <td>0</td>\n",
       "      <td>0</td>\n",
       "      <td>1</td>\n",
       "      <td>0</td>\n",
       "    </tr>\n",
       "    <tr>\n",
       "      <th>69579</th>\n",
       "      <td>5.630855</td>\n",
       "      <td>6.136597</td>\n",
       "      <td>6.606087</td>\n",
       "      <td>Test</td>\n",
       "      <td>27</td>\n",
       "      <td>1</td>\n",
       "      <td>2017-06-28</td>\n",
       "      <td>998740</td>\n",
       "      <td>MALE</td>\n",
       "      <td>0</td>\n",
       "      <td>0</td>\n",
       "      <td>2</td>\n",
       "      <td>0</td>\n",
       "    </tr>\n",
       "  </tbody>\n",
       "</table>\n",
       "</div>"
      ],
      "text/plain": [
       "       Avg_kid_age_online_hours  Avg_kid_weekday_online_hours  \\\n",
       "69575                  5.630855                      4.485947   \n",
       "69576                  5.630855                      4.500151   \n",
       "69577                  5.630855                      5.789362   \n",
       "69578                  5.630855                      6.131762   \n",
       "69579                  5.630855                      6.136597   \n",
       "\n",
       "       Avg_weekday_age_online_hours   Ind  age  age_bucket       date  \\\n",
       "69575                      4.810579  Test   27           1 2017-06-24   \n",
       "69576                      4.922872  Test   27           1 2017-06-25   \n",
       "69577                      6.129433  Test   27           1 2017-06-26   \n",
       "69578                      6.471631  Test   27           1 2017-06-27   \n",
       "69579                      6.606087  Test   27           1 2017-06-28   \n",
       "\n",
       "       driver_id gender  number_of_kids  online_hours  weekday  weekend_flag  \n",
       "69575     998740   MALE               0             0        5             1  \n",
       "69576     998740   MALE               0             0        6             1  \n",
       "69577     998740   MALE               0             0        0             0  \n",
       "69578     998740   MALE               0             0        1             0  \n",
       "69579     998740   MALE               0             0        2             0  "
      ]
     },
     "execution_count": 182,
     "metadata": {},
     "output_type": "execute_result"
    }
   ],
   "source": [
    "df =  pd.concat(objs=[train, test], axis=0, sort=True).reset_index(drop=True)\n",
    "### Joining Train and Test data set for Processing together\n",
    "df.head()\n",
    "df.tail()"
   ]
  },
  {
   "cell_type": "markdown",
   "metadata": {},
   "source": [
    "### Creating the Binary Indicator for Online"
   ]
  },
  {
   "cell_type": "code",
   "execution_count": 183,
   "metadata": {},
   "outputs": [],
   "source": [
    "df['online'] = 0\n",
    "df.loc[df['online_hours'] > 0, 'online'] = 1"
   ]
  },
  {
   "cell_type": "markdown",
   "metadata": {},
   "source": [
    "### Convert categorical variables into pandas category"
   ]
  },
  {
   "cell_type": "code",
   "execution_count": 184,
   "metadata": {},
   "outputs": [],
   "source": [
    "df.gender = df.gender.astype('category')\n",
    "df.gender.cat.set_categories(['MALE', 'FEMALE'], ordered=True, inplace=True)\n",
    "\n",
    "df.gender = df.gender.cat.codes"
   ]
  },
  {
   "cell_type": "code",
   "execution_count": 186,
   "metadata": {},
   "outputs": [
    {
     "data": {
      "text/html": [
       "<div>\n",
       "<style scoped>\n",
       "    .dataframe tbody tr th:only-of-type {\n",
       "        vertical-align: middle;\n",
       "    }\n",
       "\n",
       "    .dataframe tbody tr th {\n",
       "        vertical-align: top;\n",
       "    }\n",
       "\n",
       "    .dataframe thead th {\n",
       "        text-align: right;\n",
       "    }\n",
       "</style>\n",
       "<table border=\"1\" class=\"dataframe\">\n",
       "  <thead>\n",
       "    <tr style=\"text-align: right;\">\n",
       "      <th></th>\n",
       "      <th>Avg_kid_age_online_hours</th>\n",
       "      <th>Avg_kid_weekday_online_hours</th>\n",
       "      <th>Avg_weekday_age_online_hours</th>\n",
       "      <th>Ind</th>\n",
       "      <th>age</th>\n",
       "      <th>age_bucket</th>\n",
       "      <th>date</th>\n",
       "      <th>driver_id</th>\n",
       "      <th>gender</th>\n",
       "      <th>number_of_kids</th>\n",
       "      <th>online_hours</th>\n",
       "      <th>weekday</th>\n",
       "      <th>weekend_flag</th>\n",
       "      <th>online</th>\n",
       "    </tr>\n",
       "  </thead>\n",
       "  <tbody>\n",
       "    <tr>\n",
       "      <th>0</th>\n",
       "      <td>6.155402</td>\n",
       "      <td>6.342803</td>\n",
       "      <td>5.651890</td>\n",
       "      <td>Train</td>\n",
       "      <td>49</td>\n",
       "      <td>2</td>\n",
       "      <td>2017-06-01</td>\n",
       "      <td>111556</td>\n",
       "      <td>1</td>\n",
       "      <td>4</td>\n",
       "      <td>2</td>\n",
       "      <td>3</td>\n",
       "      <td>0</td>\n",
       "      <td>1</td>\n",
       "    </tr>\n",
       "    <tr>\n",
       "      <th>1</th>\n",
       "      <td>6.155402</td>\n",
       "      <td>7.010417</td>\n",
       "      <td>6.301718</td>\n",
       "      <td>Train</td>\n",
       "      <td>49</td>\n",
       "      <td>2</td>\n",
       "      <td>2017-06-02</td>\n",
       "      <td>111556</td>\n",
       "      <td>1</td>\n",
       "      <td>4</td>\n",
       "      <td>2</td>\n",
       "      <td>4</td>\n",
       "      <td>0</td>\n",
       "      <td>1</td>\n",
       "    </tr>\n",
       "    <tr>\n",
       "      <th>2</th>\n",
       "      <td>6.155402</td>\n",
       "      <td>4.850379</td>\n",
       "      <td>4.350859</td>\n",
       "      <td>Train</td>\n",
       "      <td>49</td>\n",
       "      <td>2</td>\n",
       "      <td>2017-06-03</td>\n",
       "      <td>111556</td>\n",
       "      <td>1</td>\n",
       "      <td>4</td>\n",
       "      <td>0</td>\n",
       "      <td>5</td>\n",
       "      <td>1</td>\n",
       "      <td>0</td>\n",
       "    </tr>\n",
       "    <tr>\n",
       "      <th>3</th>\n",
       "      <td>6.155402</td>\n",
       "      <td>5.326705</td>\n",
       "      <td>4.501031</td>\n",
       "      <td>Train</td>\n",
       "      <td>49</td>\n",
       "      <td>2</td>\n",
       "      <td>2017-06-04</td>\n",
       "      <td>111556</td>\n",
       "      <td>1</td>\n",
       "      <td>4</td>\n",
       "      <td>0</td>\n",
       "      <td>6</td>\n",
       "      <td>1</td>\n",
       "      <td>0</td>\n",
       "    </tr>\n",
       "    <tr>\n",
       "      <th>4</th>\n",
       "      <td>6.155402</td>\n",
       "      <td>6.623106</td>\n",
       "      <td>5.990378</td>\n",
       "      <td>Train</td>\n",
       "      <td>49</td>\n",
       "      <td>2</td>\n",
       "      <td>2017-06-05</td>\n",
       "      <td>111556</td>\n",
       "      <td>1</td>\n",
       "      <td>4</td>\n",
       "      <td>5</td>\n",
       "      <td>0</td>\n",
       "      <td>0</td>\n",
       "      <td>1</td>\n",
       "    </tr>\n",
       "  </tbody>\n",
       "</table>\n",
       "</div>"
      ],
      "text/plain": [
       "   Avg_kid_age_online_hours  Avg_kid_weekday_online_hours  \\\n",
       "0                  6.155402                      6.342803   \n",
       "1                  6.155402                      7.010417   \n",
       "2                  6.155402                      4.850379   \n",
       "3                  6.155402                      5.326705   \n",
       "4                  6.155402                      6.623106   \n",
       "\n",
       "   Avg_weekday_age_online_hours    Ind  age  age_bucket       date  driver_id  \\\n",
       "0                      5.651890  Train   49           2 2017-06-01     111556   \n",
       "1                      6.301718  Train   49           2 2017-06-02     111556   \n",
       "2                      4.350859  Train   49           2 2017-06-03     111556   \n",
       "3                      4.501031  Train   49           2 2017-06-04     111556   \n",
       "4                      5.990378  Train   49           2 2017-06-05     111556   \n",
       "\n",
       "   gender  number_of_kids  online_hours  weekday  weekend_flag  online  \n",
       "0       1               4             2        3             0       1  \n",
       "1       1               4             2        4             0       1  \n",
       "2       1               4             0        5             1       0  \n",
       "3       1               4             0        6             1       0  \n",
       "4       1               4             5        0             0       1  "
      ]
     },
     "execution_count": 186,
     "metadata": {},
     "output_type": "execute_result"
    }
   ],
   "source": [
    "df.head()"
   ]
  },
  {
   "cell_type": "code",
   "execution_count": 187,
   "metadata": {},
   "outputs": [
    {
     "data": {
      "text/html": [
       "<div>\n",
       "<style scoped>\n",
       "    .dataframe tbody tr th:only-of-type {\n",
       "        vertical-align: middle;\n",
       "    }\n",
       "\n",
       "    .dataframe tbody tr th {\n",
       "        vertical-align: top;\n",
       "    }\n",
       "\n",
       "    .dataframe thead th {\n",
       "        text-align: right;\n",
       "    }\n",
       "</style>\n",
       "<table border=\"1\" class=\"dataframe\">\n",
       "  <thead>\n",
       "    <tr style=\"text-align: right;\">\n",
       "      <th></th>\n",
       "      <th>Avg_kid_age_online_hours</th>\n",
       "      <th>Avg_kid_weekday_online_hours</th>\n",
       "      <th>Avg_weekday_age_online_hours</th>\n",
       "      <th>Ind</th>\n",
       "      <th>age</th>\n",
       "      <th>age_bucket</th>\n",
       "      <th>gender</th>\n",
       "      <th>number_of_kids</th>\n",
       "      <th>weekday</th>\n",
       "      <th>weekend_flag</th>\n",
       "      <th>online</th>\n",
       "    </tr>\n",
       "  </thead>\n",
       "  <tbody>\n",
       "    <tr>\n",
       "      <th>0</th>\n",
       "      <td>6.155402</td>\n",
       "      <td>6.342803</td>\n",
       "      <td>5.651890</td>\n",
       "      <td>Train</td>\n",
       "      <td>49</td>\n",
       "      <td>2</td>\n",
       "      <td>1</td>\n",
       "      <td>4</td>\n",
       "      <td>3</td>\n",
       "      <td>0</td>\n",
       "      <td>1</td>\n",
       "    </tr>\n",
       "    <tr>\n",
       "      <th>1</th>\n",
       "      <td>6.155402</td>\n",
       "      <td>7.010417</td>\n",
       "      <td>6.301718</td>\n",
       "      <td>Train</td>\n",
       "      <td>49</td>\n",
       "      <td>2</td>\n",
       "      <td>1</td>\n",
       "      <td>4</td>\n",
       "      <td>4</td>\n",
       "      <td>0</td>\n",
       "      <td>1</td>\n",
       "    </tr>\n",
       "    <tr>\n",
       "      <th>2</th>\n",
       "      <td>6.155402</td>\n",
       "      <td>4.850379</td>\n",
       "      <td>4.350859</td>\n",
       "      <td>Train</td>\n",
       "      <td>49</td>\n",
       "      <td>2</td>\n",
       "      <td>1</td>\n",
       "      <td>4</td>\n",
       "      <td>5</td>\n",
       "      <td>1</td>\n",
       "      <td>0</td>\n",
       "    </tr>\n",
       "    <tr>\n",
       "      <th>3</th>\n",
       "      <td>6.155402</td>\n",
       "      <td>5.326705</td>\n",
       "      <td>4.501031</td>\n",
       "      <td>Train</td>\n",
       "      <td>49</td>\n",
       "      <td>2</td>\n",
       "      <td>1</td>\n",
       "      <td>4</td>\n",
       "      <td>6</td>\n",
       "      <td>1</td>\n",
       "      <td>0</td>\n",
       "    </tr>\n",
       "    <tr>\n",
       "      <th>4</th>\n",
       "      <td>6.155402</td>\n",
       "      <td>6.623106</td>\n",
       "      <td>5.990378</td>\n",
       "      <td>Train</td>\n",
       "      <td>49</td>\n",
       "      <td>2</td>\n",
       "      <td>1</td>\n",
       "      <td>4</td>\n",
       "      <td>0</td>\n",
       "      <td>0</td>\n",
       "      <td>1</td>\n",
       "    </tr>\n",
       "  </tbody>\n",
       "</table>\n",
       "</div>"
      ],
      "text/plain": [
       "   Avg_kid_age_online_hours  Avg_kid_weekday_online_hours  \\\n",
       "0                  6.155402                      6.342803   \n",
       "1                  6.155402                      7.010417   \n",
       "2                  6.155402                      4.850379   \n",
       "3                  6.155402                      5.326705   \n",
       "4                  6.155402                      6.623106   \n",
       "\n",
       "   Avg_weekday_age_online_hours    Ind  age  age_bucket  gender  \\\n",
       "0                      5.651890  Train   49           2       1   \n",
       "1                      6.301718  Train   49           2       1   \n",
       "2                      4.350859  Train   49           2       1   \n",
       "3                      4.501031  Train   49           2       1   \n",
       "4                      5.990378  Train   49           2       1   \n",
       "\n",
       "   number_of_kids  weekday  weekend_flag  online  \n",
       "0               4        3             0       1  \n",
       "1               4        4             0       1  \n",
       "2               4        5             1       0  \n",
       "3               4        6             1       0  \n",
       "4               4        0             0       1  "
      ]
     },
     "execution_count": 187,
     "metadata": {},
     "output_type": "execute_result"
    }
   ],
   "source": [
    "#Drop name & age columns\n",
    "df.drop(['date','online_hours', 'driver_id'], axis=1, inplace=True)\n",
    "df.head()"
   ]
  },
  {
   "cell_type": "markdown",
   "metadata": {},
   "source": [
    "### Separate train dataset and test dataset"
   ]
  },
  {
   "cell_type": "code",
   "execution_count": 188,
   "metadata": {},
   "outputs": [
    {
     "data": {
      "text/plain": [
       "(52080, 11)"
      ]
     },
     "execution_count": 188,
     "metadata": {},
     "output_type": "execute_result"
    },
    {
     "data": {
      "text/plain": [
       "(17500, 11)"
      ]
     },
     "execution_count": 188,
     "metadata": {},
     "output_type": "execute_result"
    }
   ],
   "source": [
    "train = df[df['Ind'] == 'Train']\n",
    "test = df[df['Ind'] == 'Test']\n",
    "#test.drop([\"online\"],axis = 1,inplace=True)\n",
    "train.shape\n",
    "test.shape"
   ]
  },
  {
   "cell_type": "code",
   "execution_count": 189,
   "metadata": {},
   "outputs": [
    {
     "name": "stderr",
     "output_type": "stream",
     "text": [
      "/home/jovyan/.conda/envs/pycp_py3k/lib/python3.6/site-packages/ipykernel_launcher.py:2: SettingWithCopyWarning: \n",
      "A value is trying to be set on a copy of a slice from a DataFrame.\n",
      "Try using .loc[row_indexer,col_indexer] = value instead\n",
      "\n",
      "See the caveats in the documentation: http://pandas.pydata.org/pandas-docs/stable/indexing.html#indexing-view-versus-copy\n",
      "  \n"
     ]
    },
    {
     "data": {
      "text/html": [
       "<div>\n",
       "<style scoped>\n",
       "    .dataframe tbody tr th:only-of-type {\n",
       "        vertical-align: middle;\n",
       "    }\n",
       "\n",
       "    .dataframe tbody tr th {\n",
       "        vertical-align: top;\n",
       "    }\n",
       "\n",
       "    .dataframe thead th {\n",
       "        text-align: right;\n",
       "    }\n",
       "</style>\n",
       "<table border=\"1\" class=\"dataframe\">\n",
       "  <thead>\n",
       "    <tr style=\"text-align: right;\">\n",
       "      <th></th>\n",
       "      <th>Avg_kid_age_online_hours</th>\n",
       "      <th>Avg_kid_weekday_online_hours</th>\n",
       "      <th>Avg_weekday_age_online_hours</th>\n",
       "      <th>age</th>\n",
       "      <th>age_bucket</th>\n",
       "      <th>gender</th>\n",
       "      <th>number_of_kids</th>\n",
       "      <th>weekday</th>\n",
       "      <th>weekend_flag</th>\n",
       "    </tr>\n",
       "  </thead>\n",
       "  <tbody>\n",
       "    <tr>\n",
       "      <th>0</th>\n",
       "      <td>6.155402</td>\n",
       "      <td>6.342803</td>\n",
       "      <td>5.651890</td>\n",
       "      <td>49</td>\n",
       "      <td>2</td>\n",
       "      <td>1</td>\n",
       "      <td>4</td>\n",
       "      <td>3</td>\n",
       "      <td>0</td>\n",
       "    </tr>\n",
       "    <tr>\n",
       "      <th>1</th>\n",
       "      <td>6.155402</td>\n",
       "      <td>7.010417</td>\n",
       "      <td>6.301718</td>\n",
       "      <td>49</td>\n",
       "      <td>2</td>\n",
       "      <td>1</td>\n",
       "      <td>4</td>\n",
       "      <td>4</td>\n",
       "      <td>0</td>\n",
       "    </tr>\n",
       "    <tr>\n",
       "      <th>2</th>\n",
       "      <td>6.155402</td>\n",
       "      <td>4.850379</td>\n",
       "      <td>4.350859</td>\n",
       "      <td>49</td>\n",
       "      <td>2</td>\n",
       "      <td>1</td>\n",
       "      <td>4</td>\n",
       "      <td>5</td>\n",
       "      <td>1</td>\n",
       "    </tr>\n",
       "    <tr>\n",
       "      <th>3</th>\n",
       "      <td>6.155402</td>\n",
       "      <td>5.326705</td>\n",
       "      <td>4.501031</td>\n",
       "      <td>49</td>\n",
       "      <td>2</td>\n",
       "      <td>1</td>\n",
       "      <td>4</td>\n",
       "      <td>6</td>\n",
       "      <td>1</td>\n",
       "    </tr>\n",
       "    <tr>\n",
       "      <th>4</th>\n",
       "      <td>6.155402</td>\n",
       "      <td>6.623106</td>\n",
       "      <td>5.990378</td>\n",
       "      <td>49</td>\n",
       "      <td>2</td>\n",
       "      <td>1</td>\n",
       "      <td>4</td>\n",
       "      <td>0</td>\n",
       "      <td>0</td>\n",
       "    </tr>\n",
       "  </tbody>\n",
       "</table>\n",
       "</div>"
      ],
      "text/plain": [
       "   Avg_kid_age_online_hours  Avg_kid_weekday_online_hours  \\\n",
       "0                  6.155402                      6.342803   \n",
       "1                  6.155402                      7.010417   \n",
       "2                  6.155402                      4.850379   \n",
       "3                  6.155402                      5.326705   \n",
       "4                  6.155402                      6.623106   \n",
       "\n",
       "   Avg_weekday_age_online_hours  age  age_bucket  gender  number_of_kids  \\\n",
       "0                      5.651890   49           2       1               4   \n",
       "1                      6.301718   49           2       1               4   \n",
       "2                      4.350859   49           2       1               4   \n",
       "3                      4.501031   49           2       1               4   \n",
       "4                      5.990378   49           2       1               4   \n",
       "\n",
       "   weekday  weekend_flag  \n",
       "0        3             0  \n",
       "1        4             0  \n",
       "2        5             1  \n",
       "3        6             1  \n",
       "4        0             0  "
      ]
     },
     "execution_count": 189,
     "metadata": {},
     "output_type": "execute_result"
    }
   ],
   "source": [
    "# Separate train features and label \n",
    "train[\"online\"] = train[\"online\"].astype(int)\n",
    "y = train[\"online\"]\n",
    "df = train.drop([\"online\", 'Ind'],axis = 1)\n",
    "df.head()"
   ]
  },
  {
   "cell_type": "markdown",
   "metadata": {},
   "source": [
    "## Random Forest Model for Classification"
   ]
  },
  {
   "cell_type": "code",
   "execution_count": 190,
   "metadata": {},
   "outputs": [
    {
     "name": "stdout",
     "output_type": "stream",
     "text": [
      "Training set: (41664, 9), (41664,)\n",
      "Validation set: (10416, 9), (10416,)\n"
     ]
    },
    {
     "data": {
      "text/plain": [
       "RandomForestClassifier(bootstrap=True, class_weight=None, criterion='gini',\n",
       "            max_depth=3, max_features='auto', max_leaf_nodes=None,\n",
       "            min_impurity_decrease=0.0, min_impurity_split=None,\n",
       "            min_samples_leaf=5, min_samples_split=2,\n",
       "            min_weight_fraction_leaf=0.0, n_estimators=500, n_jobs=-1,\n",
       "            oob_score=True, random_state=None, verbose=0, warm_start=False)"
      ]
     },
     "execution_count": 190,
     "metadata": {},
     "output_type": "execute_result"
    }
   ],
   "source": [
    "from sklearn.model_selection import train_test_split\n",
    "X_train, X_val, y_train, y_val = train_test_split(df, y, test_size=0.2)\n",
    "\n",
    "print('Training set: %s, %s' %(X_train.shape, y_train.shape))\n",
    "print('Validation set: %s, %s' %(X_val.shape, y_val.shape))\n",
    "\n",
    "m = RandomForestClassifier(n_estimators = 500, min_samples_leaf = 5, max_depth=3, n_jobs = -1, oob_score=True)\n",
    "m.fit(X_train, y_train)"
   ]
  },
  {
   "cell_type": "code",
   "execution_count": 191,
   "metadata": {},
   "outputs": [
    {
     "data": {
      "text/plain": [
       "0.8320612519201229"
      ]
     },
     "execution_count": 191,
     "metadata": {},
     "output_type": "execute_result"
    },
    {
     "data": {
      "text/plain": [
       "0.8339093701996928"
      ]
     },
     "execution_count": 191,
     "metadata": {},
     "output_type": "execute_result"
    }
   ],
   "source": [
    "m.score(X_train, y_train)\n",
    "\n",
    "m.score(X_val, y_val)"
   ]
  },
  {
   "cell_type": "code",
   "execution_count": 192,
   "metadata": {},
   "outputs": [
    {
     "data": {
      "text/html": [
       "<div>\n",
       "<style scoped>\n",
       "    .dataframe tbody tr th:only-of-type {\n",
       "        vertical-align: middle;\n",
       "    }\n",
       "\n",
       "    .dataframe tbody tr th {\n",
       "        vertical-align: top;\n",
       "    }\n",
       "\n",
       "    .dataframe thead th {\n",
       "        text-align: right;\n",
       "    }\n",
       "</style>\n",
       "<table border=\"1\" class=\"dataframe\">\n",
       "  <thead>\n",
       "    <tr style=\"text-align: right;\">\n",
       "      <th></th>\n",
       "      <th>cols</th>\n",
       "      <th>imp</th>\n",
       "    </tr>\n",
       "  </thead>\n",
       "  <tbody>\n",
       "    <tr>\n",
       "      <th>7</th>\n",
       "      <td>weekday</td>\n",
       "      <td>0.257573</td>\n",
       "    </tr>\n",
       "    <tr>\n",
       "      <th>2</th>\n",
       "      <td>Avg_weekday_age_online_hours</td>\n",
       "      <td>0.246094</td>\n",
       "    </tr>\n",
       "    <tr>\n",
       "      <th>1</th>\n",
       "      <td>Avg_kid_weekday_online_hours</td>\n",
       "      <td>0.214617</td>\n",
       "    </tr>\n",
       "    <tr>\n",
       "      <th>8</th>\n",
       "      <td>weekend_flag</td>\n",
       "      <td>0.210033</td>\n",
       "    </tr>\n",
       "    <tr>\n",
       "      <th>5</th>\n",
       "      <td>gender</td>\n",
       "      <td>0.064050</td>\n",
       "    </tr>\n",
       "    <tr>\n",
       "      <th>3</th>\n",
       "      <td>age</td>\n",
       "      <td>0.004089</td>\n",
       "    </tr>\n",
       "    <tr>\n",
       "      <th>4</th>\n",
       "      <td>age_bucket</td>\n",
       "      <td>0.001887</td>\n",
       "    </tr>\n",
       "    <tr>\n",
       "      <th>0</th>\n",
       "      <td>Avg_kid_age_online_hours</td>\n",
       "      <td>0.001385</td>\n",
       "    </tr>\n",
       "    <tr>\n",
       "      <th>6</th>\n",
       "      <td>number_of_kids</td>\n",
       "      <td>0.000272</td>\n",
       "    </tr>\n",
       "  </tbody>\n",
       "</table>\n",
       "</div>"
      ],
      "text/plain": [
       "                           cols       imp\n",
       "7                       weekday  0.257573\n",
       "2  Avg_weekday_age_online_hours  0.246094\n",
       "1  Avg_kid_weekday_online_hours  0.214617\n",
       "8                  weekend_flag  0.210033\n",
       "5                        gender  0.064050\n",
       "3                           age  0.004089\n",
       "4                    age_bucket  0.001887\n",
       "0      Avg_kid_age_online_hours  0.001385\n",
       "6                number_of_kids  0.000272"
      ]
     },
     "execution_count": 192,
     "metadata": {},
     "output_type": "execute_result"
    }
   ],
   "source": [
    "def rf_feat_importance(m, df):\n",
    "    return pd.DataFrame({'cols':df.columns, 'imp':m.feature_importances_}\n",
    "                       ).sort_values('imp', ascending=False)\n",
    "\n",
    "rf_feat_importance(m, X_train)"
   ]
  },
  {
   "cell_type": "markdown",
   "metadata": {},
   "source": [
    "### Scoring the Test Population"
   ]
  },
  {
   "cell_type": "code",
   "execution_count": 195,
   "metadata": {},
   "outputs": [],
   "source": [
    "y_test = test['online']\n",
    "test.drop([ 'Ind','online'], axis=1, inplace=True)"
   ]
  },
  {
   "cell_type": "code",
   "execution_count": 196,
   "metadata": {},
   "outputs": [],
   "source": [
    "def plot_confusion_matrix(cm, classes,\n",
    "                          normalize=False,\n",
    "                          title='Confusion matrix',\n",
    "                          cmap=plt.cm.Blues):\n",
    "    \"\"\"\n",
    "    http://scikit-learn.org/stable/auto_examples/model_selection/plot_confusion_matrix.html\n",
    "    \"\"\"\n",
    "    plt.imshow(cm, interpolation='nearest', cmap=cmap)\n",
    "    plt.title(title)\n",
    "    plt.colorbar()\n",
    "    tick_marks = np.arange(len(classes))\n",
    "    plt.xticks(tick_marks, classes, rotation=45)\n",
    "    plt.yticks(tick_marks, classes)\n",
    "    fmt = '.2f' if normalize else 'd'\n",
    "    thresh = cm.max() / 2.\n",
    "    for i, j in itertools.product(range(cm.shape[0]), range(cm.shape[1])):\n",
    "        plt.text(j, i, format(cm[i, j], fmt),\n",
    "                 horizontalalignment=\"center\",\n",
    "                 color=\"white\" if cm[i, j] > thresh else \"black\")\n",
    "    plt.tight_layout()\n",
    "    plt.ylabel('True label')\n",
    "    plt.xlabel('Predicted label')\n",
    "\n",
    "dict_characters = {0: 'Not Online', 1: 'Online'}"
   ]
  },
  {
   "cell_type": "code",
   "execution_count": 197,
   "metadata": {},
   "outputs": [
    {
     "name": "stdout",
     "output_type": "stream",
     "text": [
      "Accuracy of Random Forest Classifier on training data: 0.83\n",
      "Accuracy of Random Forest Classifier on testing data: 0.82\n"
     ]
    },
    {
     "data": {
      "image/png": "[encoded data removed]",
      "text/plain": [
       "<Figure size 432x288 with 2 Axes>"
      ]
     },
     "metadata": {
      "needs_background": "light"
     },
     "output_type": "display_data"
    }
   ],
   "source": [
    "print('Accuracy of Random Forest Classifier on training data: {:.2f}'.format(m.score(X_train,y_train)))\n",
    "print('Accuracy of Random Forest Classifier on testing data: {:.2f}'.format(m.score(test,y_test)))\n",
    "model = m\n",
    "prediction = model.predict(test)\n",
    "cnf_matrix = confusion_matrix(y_test, prediction)\n",
    "plt.show()\n",
    "\n",
    "plot_confusion_matrix(cnf_matrix, classes=dict_characters,title='Confusion matrix')\n",
    "plt.show()"
   ]
  },
  {
   "cell_type": "code",
   "execution_count": 198,
   "metadata": {},
   "outputs": [
    {
     "data": {
      "text/plain": [
       "Text(0.5,1,'Precision-Recall vs Threshold Chart')"
      ]
     },
     "execution_count": 198,
     "metadata": {},
     "output_type": "execute_result"
    },
    {
     "data": {
      "text/plain": [
       "[<matplotlib.lines.Line2D at 0x7fc5d8ffe5f8>]"
      ]
     },
     "execution_count": 198,
     "metadata": {},
     "output_type": "execute_result"
    },
    {
     "data": {
      "text/plain": [
       "[<matplotlib.lines.Line2D at 0x7fc5d908eba8>]"
      ]
     },
     "execution_count": 198,
     "metadata": {},
     "output_type": "execute_result"
    },
    {
     "data": {
      "text/plain": [
       "Text(0,0.5,'Precision, Recall')"
      ]
     },
     "execution_count": 198,
     "metadata": {},
     "output_type": "execute_result"
    },
    {
     "data": {
      "text/plain": [
       "Text(0.5,0,'Threshold')"
      ]
     },
     "execution_count": 198,
     "metadata": {},
     "output_type": "execute_result"
    },
    {
     "data": {
      "text/plain": [
       "<matplotlib.legend.Legend at 0x7fc5d908e828>"
      ]
     },
     "execution_count": 198,
     "metadata": {},
     "output_type": "execute_result"
    },
    {
     "data": {
      "text/plain": [
       "(0, 1)"
      ]
     },
     "execution_count": 198,
     "metadata": {},
     "output_type": "execute_result"
    },
    {
     "data": {
      "image/png": "[encoded data removed]",
      "text/plain": [
       "<Figure size 432x288 with 1 Axes>"
      ]
     },
     "metadata": {
      "needs_background": "light"
     },
     "output_type": "display_data"
    }
   ],
   "source": [
    "probs_y=m.predict_proba(test)\n",
    "from sklearn.metrics import precision_recall_curve\n",
    "from sklearn.metrics import auc\n",
    "\n",
    "precision, recall, thresholds = precision_recall_curve(y_test, probs_y[:,1]) \n",
    "   #retrieve probability of being 1(in second column of probs_y)\n",
    "\n",
    "\n",
    "pr_auc = auc(recall, precision)\n",
    "\n",
    "plt.title(\"Precision-Recall vs Threshold Chart\")\n",
    "plt.plot(thresholds, precision[: -1], \"b--\", label=\"Precision\")\n",
    "plt.plot(thresholds, recall[: -1], \"r--\", label=\"Recall\")\n",
    "plt.ylabel(\"Precision, Recall\")\n",
    "plt.xlabel(\"Threshold\")\n",
    "plt.legend(loc=\"upper right\")\n",
    "plt.ylim([0,1])"
   ]
  },
  {
   "cell_type": "markdown",
   "metadata": {},
   "source": [
    "# 2. Regression Model"
   ]
  },
  {
   "cell_type": "markdown",
   "metadata": {},
   "source": [
    "***\n",
    "-Regression Model to score the ones which have been classified as Online/ Active days for Drivers\n",
    "***"
   ]
  },
  {
   "cell_type": "code",
   "execution_count": null,
   "metadata": {},
   "outputs": [],
   "source": [
    "train = pd.read_parquet('train_data.parquet', engine='fastparquet')\n",
    "test = pd.read_parquet('test_data.parquet', engine='fastparquet')\n",
    "\n",
    "train['Ind'] = 'Train'\n",
    "test['Ind'] = 'Test'\n",
    "train[\"online_hours\"] = train[\"online_hours\"].astype(int)"
   ]
  }
 ],
 "metadata": {
  "kernelspec": {
   "display_name": "Python 3",
   "language": "python",
   "name": "python3"
  },
  "language_info": {
   "codemirror_mode": {
    "name": "ipython",
    "version": 3
   },
   "file_extension": ".py",
   "mimetype": "text/x-python",
   "name": "python",
   "nbconvert_exporter": "python",
   "pygments_lexer": "ipython3",
   "version": "3.6.8"
  }
 },
 "nbformat": 4,
 "nbformat_minor": 4
}
